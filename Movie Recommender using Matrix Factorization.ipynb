{
 "cells": [
  {
   "cell_type": "markdown",
   "id": "2f38fb79-896c-40aa-90be-a7e0a7557b96",
   "metadata": {},
   "source": [
    "# Import Libraries"
   ]
  },
  {
   "cell_type": "code",
   "execution_count": null,
   "id": "f47121fc-84ea-4beb-b919-ab95f4da5450",
   "metadata": {},
   "outputs": [],
   "source": [
    "import numpy as np\n",
    "import pandas as pd\n",
    "from sklearn.decomposition import TruncatedSVD\n",
    "\n",
    "import warnings\n",
    "warnings.filterwarnings(\"ignore\")"
   ]
  },
  {
   "cell_type": "markdown",
   "id": "ae0e7736-03ce-47eb-a271-57be00092c8a",
   "metadata": {},
   "source": [
    "# Load Data"
   ]
  },
  {
   "cell_type": "code",
   "execution_count": null,
   "id": "1e943c54-f290-447c-80c4-98ed2ca5529f",
   "metadata": {},
   "outputs": [],
   "source": [
    "movie_df = pd.read_csv(\"/mnt/d/Datasets/movies_metadata.csv\", usecols=[\"id\", \"title\"])\n",
    "movie_df.columns = [\"movieId\", \"title\"]\n",
    "movie_df.head()"
   ]
  },
  {
   "cell_type": "code",
   "execution_count": null,
   "id": "fb756fdd-a2cd-49d9-a82b-78201bfda441",
   "metadata": {},
   "outputs": [],
   "source": [
    "movie_df.shape"
   ]
  },
  {
   "cell_type": "code",
   "execution_count": null,
   "id": "e99ee377-fae7-401e-9e50-43cd61b9a505",
   "metadata": {},
   "outputs": [],
   "source": [
    "movie_df = movie_df[~movie_df.movieId.str.contains(\"-\")]"
   ]
  },
  {
   "cell_type": "code",
   "execution_count": null,
   "id": "5784790d-9c2f-4be6-a499-8641190a3af0",
   "metadata": {},
   "outputs": [],
   "source": [
    "movie_df[\"movieId\"] = movie_df[\"movieId\"].astype(\"int\")"
   ]
  },
  {
   "cell_type": "code",
   "execution_count": null,
   "id": "00949b7e-b5b9-4b7c-9c6b-e0b1f0e1ea83",
   "metadata": {},
   "outputs": [],
   "source": [
    "rating_df = pd.read_csv(\"/mnt/d/Datasets/ratings.csv\", usecols=[\"userId\", \"movieId\", \"rating\"])\n",
    "rating_df.head()"
   ]
  },
  {
   "cell_type": "code",
   "execution_count": null,
   "id": "36a65e75-3356-4d57-a051-141bba08a673",
   "metadata": {},
   "outputs": [],
   "source": [
    "rating_df.shape"
   ]
  },
  {
   "cell_type": "markdown",
   "id": "f7bc0cae-c477-43f6-85eb-a99f090866a8",
   "metadata": {},
   "source": [
    "# Merge "
   ]
  },
  {
   "cell_type": "code",
   "execution_count": null,
   "id": "baf356ae-11ad-4422-a88b-3155f9822825",
   "metadata": {},
   "outputs": [],
   "source": [
    "combined_df = pd.merge(rating_df, movie_df, on='movieId')\n",
    "combined_df = combined_df.drop_duplicates([\"userId\", \"title\"])\n",
    "combined_df = combined_df.dropna(subset=['title'])"
   ]
  },
  {
   "cell_type": "code",
   "execution_count": null,
   "id": "f5cf30ad-98e7-42c5-9de4-08da11ac74ea",
   "metadata": {},
   "outputs": [],
   "source": [
    "combined_df.head()"
   ]
  },
  {
   "cell_type": "markdown",
   "id": "1047f80f-928f-4e2b-9c23-fa91002b472a",
   "metadata": {},
   "source": [
    "# Matrix"
   ]
  },
  {
   "cell_type": "code",
   "execution_count": null,
   "id": "0a48fb6e-89c1-4ec5-8252-c9bd8d2848af",
   "metadata": {},
   "outputs": [],
   "source": [
    "user_rating_matrix = combined_df.pivot(index='userId', columns='title', values='rating').fillna(0)"
   ]
  },
  {
   "cell_type": "code",
   "execution_count": null,
   "id": "f5468aab-8497-4619-9c36-8ee86bab3c00",
   "metadata": {},
   "outputs": [],
   "source": [
    "user_rating_matrix.head()"
   ]
  },
  {
   "cell_type": "markdown",
   "id": "2dbbb6b4-ce0c-4018-a13f-60cbbd4a25e3",
   "metadata": {},
   "source": [
    "# Correlation"
   ]
  },
  {
   "cell_type": "code",
   "execution_count": null,
   "id": "456d67cf-6308-4e55-862f-fc0f21cbb087",
   "metadata": {},
   "outputs": [],
   "source": [
    "svd = TruncatedSVD(n_components=10, random_state=42)"
   ]
  },
  {
   "cell_type": "code",
   "execution_count": null,
   "id": "701769dd-9ee8-42b7-bc6a-5d7549f5394d",
   "metadata": {},
   "outputs": [],
   "source": [
    "transformed_matrix = svd.fit_transform(user_rating_matrix.values.T)"
   ]
  },
  {
   "cell_type": "code",
   "execution_count": null,
   "id": "e701ab6b-022c-482d-9e17-eb5462826ffe",
   "metadata": {},
   "outputs": [],
   "source": [
    "correlation_matrix = np.corrcoef(transformed_matrix)"
   ]
  },
  {
   "cell_type": "code",
   "execution_count": null,
   "id": "f2d9f5e4-de0a-4654-8382-dad55cfb3b67",
   "metadata": {},
   "outputs": [],
   "source": [
    "movie_list = list(user_rating_matrix.columns)"
   ]
  },
  {
   "cell_type": "markdown",
   "id": "4ea9f7f0-8e0a-4185-b3d8-557006009491",
   "metadata": {},
   "source": [
    "# Recommend"
   ]
  },
  {
   "cell_type": "code",
   "execution_count": 52,
   "id": "73b0ce49-8316-46e6-a044-6916f959ab73",
   "metadata": {},
   "outputs": [],
   "source": [
    "def recommend_movies(correlation_matrix, movie_list, target_movie, threshold=0.9, count=25):\n",
    "    if target_movie not in movie_list:\n",
    "        raise ValueError(f\"Movie '{target_movie}' not found in the dataset.\")\n",
    "        \n",
    "    movie_index = movie_list.index(target_movie)\n",
    "    similar_movies = correlation_matrix[movie_index]\n",
    "    return [movie for movie, corr in zip(movie_list, similar_movies) if corr >= threshold][:count]"
   ]
  },
  {
   "cell_type": "code",
   "execution_count": null,
   "id": "4fe4af37-5234-40a4-a6f1-e5cb1717afb1",
   "metadata": {},
   "outputs": [],
   "source": [
    "target_movie = \"Toy Story\"\n",
    "recommended_movies = recommend_movies(correlation_matrix, movie_list, target_movie)\n",
    "print(\"Recommended movies:\")\n",
    "for i, recommended in enumerate(recommended_movies):\n",
    "    print(f\"{i} - {recommended}\")"
   ]
  },
  {
   "cell_type": "code",
   "execution_count": null,
   "id": "ce63d1d6-84e1-43c2-8bf5-8f4f4c511850",
   "metadata": {},
   "outputs": [],
   "source": []
  },
  {
   "cell_type": "code",
   "execution_count": null,
   "id": "219296b5-2ec8-40df-a8cb-b9634cac164c",
   "metadata": {},
   "outputs": [],
   "source": []
  },
  {
   "cell_type": "code",
   "execution_count": null,
   "id": "33b18cfd-4af8-4a8f-8b24-1b7612d90cd9",
   "metadata": {},
   "outputs": [],
   "source": []
  }
 ],
 "metadata": {
  "kernelspec": {
   "display_name": "Python 3 (ipykernel)",
   "language": "python",
   "name": "python3"
  },
  "language_info": {
   "codemirror_mode": {
    "name": "ipython",
    "version": 3
   },
   "file_extension": ".py",
   "mimetype": "text/x-python",
   "name": "python",
   "nbconvert_exporter": "python",
   "pygments_lexer": "ipython3",
   "version": "3.10.12"
  }
 },
 "nbformat": 4,
 "nbformat_minor": 5
}
